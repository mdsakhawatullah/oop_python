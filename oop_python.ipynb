{
  "nbformat": 4,
  "nbformat_minor": 0,
  "metadata": {
    "colab": {
      "provenance": []
    },
    "kernelspec": {
      "name": "python3",
      "display_name": "Python 3"
    },
    "language_info": {
      "name": "python"
    }
  },
  "cells": [
    {
      "cell_type": "code",
      "execution_count": null,
      "metadata": {
        "colab": {
          "base_uri": "https://localhost:8080/"
        },
        "id": "xI5p8mIG3DSq",
        "outputId": "004e84fa-14a0-4166-fc9b-b6a923f4be29"
      },
      "outputs": [
        {
          "output_type": "stream",
          "name": "stdout",
          "text": [
            "samsung\n"
          ]
        }
      ],
      "source": [
        "class Phone:\n",
        "  brand = \"samsung\"\n",
        "  color = \"red\"\n",
        "\n",
        "print(Phone().brand)"
      ]
    },
    {
      "cell_type": "code",
      "source": [
        "# 5.3\n",
        "\n",
        "class Phone:\n",
        "  def __init__(self, owner, brand, price):\n",
        "    self.owner = owner\n",
        "    self.brand = brand\n",
        "    self.price = price\n",
        "\n",
        "my_phone = Phone(\"sakhawat\",\"samsung\",6000)\n",
        "print(my_phone.owner, my_phone.brand, my_phone.price)"
      ],
      "metadata": {
        "colab": {
          "base_uri": "https://localhost:8080/"
        },
        "id": "q70jHKG3FzSy",
        "outputId": "ce8b6351-97b1-4f44-a9b8-6337d45ee0d7"
      },
      "execution_count": null,
      "outputs": [
        {
          "output_type": "stream",
          "name": "stdout",
          "text": [
            "sakhawat samsung 6000\n"
          ]
        }
      ]
    },
    {
      "cell_type": "code",
      "source": [
        "#5.4---Class attribute Vs Instance Attribute\n",
        "\n",
        "class Shop:\n",
        "  cart = [] #here cart is a class attribute. Jeita sobai use korbe...\n",
        "\n",
        "  def __init__(self,name):\n",
        "    self.name = name\n",
        "  def add_to_cart(self,item):\n",
        "    self.cart.append(item)\n",
        "\n",
        "sakhawat = Shop(\"sakku\") #here sakhawat is a object\n",
        "sakhawat.add_to_cart(\"jama\")\n",
        "sakhawat.add_to_cart(\"juta\")\n",
        "sakhawat.add_to_cart(\"moja\")\n",
        "print(sakhawat.cart)\n",
        "\n",
        "\n",
        "rink = Shop(\"rinku\")\n",
        "rink.add_to_cart(\"rinkus jama\")\n",
        "rink.add_to_cart(\"rinkus juta\")\n",
        "rink.add_to_cart(\"rinkus moja\")\n",
        "print(rink.cart)\n",
        "\n",
        "\n",
        "\n",
        "class Shop2:\n",
        "  def __init__(self,name):\n",
        "    self.name = name\n",
        "    self.cart = [] #here cart is a instance attribute\n",
        "\n",
        "  def add_to_cart_2(self,item):\n",
        "    self.cart.append(item)\n",
        "\n",
        "sakhawat_2 = Shop2(\"sakku\") #here sakhawat is a object\n",
        "sakhawat_2.add_to_cart_2(\"jama\")\n",
        "sakhawat_2.add_to_cart_2(\"juta\")\n",
        "sakhawat_2.add_to_cart_2(\"moja\")\n",
        "print(sakhawat_2.cart)\n",
        "\n",
        "\n",
        "rink_2 = Shop2(\"rinku\")\n",
        "rink_2.add_to_cart_2(\"rinkus jama\")\n",
        "rink_2.add_to_cart_2(\"rinkus juta\")\n",
        "rink_2.add_to_cart_2(\"rinkus moja\")\n",
        "print(rink_2.cart)\n",
        "\n"
      ],
      "metadata": {
        "id": "zgoHIOxHv6wB",
        "colab": {
          "base_uri": "https://localhost:8080/"
        },
        "outputId": "be704091-fc2b-474f-9c50-ab65d5c87b0d"
      },
      "execution_count": null,
      "outputs": [
        {
          "output_type": "stream",
          "name": "stdout",
          "text": [
            "['jama', 'juta', 'moja']\n",
            "['jama', 'juta', 'moja', 'rinkus jama', 'rinkus juta', 'rinkus moja']\n",
            "['jama', 'juta', 'moja']\n",
            "['rinkus jama', 'rinkus juta', 'rinkus moja']\n"
          ]
        }
      ]
    },
    {
      "cell_type": "code",
      "source": [
        "#5.5 --\n",
        "\n",
        "\n",
        "class Bank:\n",
        "  def __init__(self,balance):\n",
        "    self.balance = balance\n",
        "    self.min_withdraw = 100\n",
        "    self.max_withdraw = 5000\n",
        "\n",
        "  def get_balance(self):\n",
        "    return self.balance\n",
        "\n",
        "  def deposit(self, amount):\n",
        "    if amount > 0:\n",
        "      self.balance += amount\n",
        "\n",
        "  def withdraw(self,amount):\n",
        "    if amount < self.min_withdraw:\n",
        "      print(f\"You will not withdraw this {amount} little money\")\n",
        "    elif amount > self.max_withdraw:\n",
        "      print(f\"You will not able to withdraw this {amount} money\")\n",
        "    else:\n",
        "      self.balance -= amount\n",
        "\n",
        "\n",
        "brac = Bank(5000)\n",
        "brac.withdraw(25)\n",
        "brac.withdraw(6000)\n",
        "\n"
      ],
      "metadata": {
        "id": "PgBI1Sy8Un3d",
        "colab": {
          "base_uri": "https://localhost:8080/"
        },
        "outputId": "80456f7f-6837-42b7-ea1d-3fcae5685914"
      },
      "execution_count": null,
      "outputs": [
        {
          "output_type": "stream",
          "name": "stdout",
          "text": [
            "You will not withdraw this 25 little money\n",
            "You will not able to withdraw this 6000 money\n"
          ]
        }
      ]
    },
    {
      "cell_type": "code",
      "source": [
        "#5.6---\n",
        "\n",
        "class Shopping:\n",
        "\n",
        "  def __init__(self,name,)"
      ],
      "metadata": {
        "id": "Mv_TAOhpfn_h"
      },
      "execution_count": null,
      "outputs": []
    },
    {
      "cell_type": "code",
      "source": [
        "#5.7----\n",
        "\n",
        "class Student:\n",
        "\n",
        "  def __init__(self,name,current_class,id):\n",
        "    self.name = name\n",
        "    self.current_class = current_class\n",
        "    self.id = id\n",
        "\n",
        "  def __repr__(self) -> str:\n",
        "      return f'student name: {self.name} , his class: {self.current_class}, Id: {self.id}'\n",
        "\n",
        "class Teacher:\n",
        "\n",
        "  def __init__(self,name,subject,id):\n",
        "    self.name = next\n",
        "    self.subject = subject\n",
        "    self.id =id\n",
        "\n",
        "  def __repr__(self) -> str:\n",
        "       return f'student name: {self.name} , his subject: {self.subject}, Id: {self.id}'\n",
        "\n",
        "class School:\n",
        "\n",
        "  def __init__(self,name):\n",
        "\n",
        "    self.name = name\n",
        "    self.teachers = []\n",
        "    self.students = []\n",
        "\n",
        "  def add_teacher(self,name,subject):\n",
        "    id = len(self.teachers) + 101\n",
        "    teacher = Teacher(name,subject,id)\n",
        "    self.teachers.append(teacher)\n",
        "\n",
        "  def enroll(self,name,fee):\n",
        "    if fee <6500:\n",
        "      print(\"You have not enough money\")\n",
        "    else:\n",
        "      id = len(self.students) +50\n",
        "      student = Student(name,\"Class 9\", id)\n",
        "      self.students.append(student)\n",
        "      print(f\"you {name} admotted with {id}, extra fee is {fee- 6500}\")\n",
        "\n",
        "  def __repr__(self) -> str:\n",
        "    print(\"Welcome to\",self.name,\"school\")\n",
        "    print(\"---Our Teacher---\")\n",
        "    for teacher in self.teachers:\n",
        "      print(teacher)\n",
        "    print(\"---Our Students---\")\n",
        "    for student in self.students:\n",
        "      print(student)\n",
        "\n",
        "ccs = School('ccs school')\n",
        "ccs.enroll(\"sakku1\", 500)\n",
        "ccs.enroll(\"sakku2\", 7500)\n",
        "\n",
        "ccs.add_teacher(\"s1\", \"algo\")\n",
        "ccs.add_teacher(\"s2\", \"datastrucrure\")\n",
        "\n",
        "\n",
        "print(ccs)\n",
        "\n"
      ],
      "metadata": {
        "colab": {
          "base_uri": "https://localhost:8080/",
          "height": 367
        },
        "id": "r29MWvcVtrOC",
        "outputId": "be8c2030-d9c3-43bd-fb45-873cc0a31714"
      },
      "execution_count": null,
      "outputs": [
        {
          "output_type": "stream",
          "name": "stdout",
          "text": [
            "You have not enough money\n",
            "you sakku2 admotted with 50, extra fee is 1000\n",
            "Welcome to ccs school school\n",
            "---Our Teacher---\n",
            "<__main__.Teacher object at 0x7efe67722650>\n",
            "<__main__.Teacher object at 0x7efe677229e0>\n",
            "---Our Students---\n",
            "student name: sakku2 , his class: Class 9, Id: 50\n"
          ]
        },
        {
          "output_type": "error",
          "ename": "TypeError",
          "evalue": "ignored",
          "traceback": [
            "\u001b[0;31m---------------------------------------------------------------------------\u001b[0m",
            "\u001b[0;31mTypeError\u001b[0m                                 Traceback (most recent call last)",
            "\u001b[0;32m<ipython-input-5-417dfb9e045d>\u001b[0m in \u001b[0;36m<cell line: 62>\u001b[0;34m()\u001b[0m\n\u001b[1;32m     60\u001b[0m \u001b[0;34m\u001b[0m\u001b[0m\n\u001b[1;32m     61\u001b[0m \u001b[0;34m\u001b[0m\u001b[0m\n\u001b[0;32m---> 62\u001b[0;31m \u001b[0mprint\u001b[0m\u001b[0;34m(\u001b[0m\u001b[0mccs\u001b[0m\u001b[0;34m)\u001b[0m\u001b[0;34m\u001b[0m\u001b[0;34m\u001b[0m\u001b[0m\n\u001b[0m\u001b[1;32m     63\u001b[0m \u001b[0;34m\u001b[0m\u001b[0m\n",
            "\u001b[0;31mTypeError\u001b[0m: __str__ returned non-string (type NoneType)"
          ]
        }
      ]
    },
    {
      "cell_type": "code",
      "source": [
        "#---6.3----\n",
        "# Multi Level Inheritance\n",
        "\n",
        "class Vehicle:\n",
        "\n",
        "  def __init__(self,name,price):\n",
        "    self.name = name\n",
        "    self.price = price\n",
        "\n",
        "\n",
        "  def move(self):\n",
        "    pass\n",
        "\n",
        "class Bus(Vehicle):\n",
        "\n",
        "  def __init__(self, name, price, seat):\n",
        "    self.seat = seat\n",
        "    super().__init__(name, price)\n",
        "\n",
        "  def __repr__(self) -> str:\n",
        "    return super().__repr__()\n",
        "\n",
        "class Truck(Vehicle):\n",
        "\n",
        "  def __init__(self, name, price, weight):\n",
        "    self.weight = weight\n",
        "    super().__init__(name, price)\n",
        "\n",
        "class Pickup(Truck):\n",
        "\n",
        "  def __init__(self, name, price, weight):\n",
        "    super().__init__(name, price, weight)\n",
        "\n",
        "\n",
        "class AcBus(Bus):\n",
        "\n",
        "  def __init__(self, name, price, seat, temp):\n",
        "    self.temp = temp\n",
        "    super().__init__(name, price, seat)\n",
        "\n",
        "  def __repr__(self) -> str:\n",
        "    print(f\"bus name is {self.name}, price is {self.price}, seat no is {self.seat}, and temparature is {self.temp}\")\n",
        "    return super().__repr__()\n",
        "\n",
        "\n",
        "greenline = AcBus(\"greenline paribahan\", 50, 28, 15)\n",
        "print(greenline)\n",
        "\n"
      ],
      "metadata": {
        "colab": {
          "base_uri": "https://localhost:8080/"
        },
        "id": "sf0MC5cR_3X9",
        "outputId": "7fbc1928-54e9-4a52-a1fb-f7de8bf5ada8"
      },
      "execution_count": null,
      "outputs": [
        {
          "output_type": "stream",
          "name": "stdout",
          "text": [
            "bus name is greenline paribahan, price is 50, seat no is 28, and temparature is 15\n",
            "<__main__.AcBus object at 0x7ce298e11ff0>\n"
          ]
        }
      ]
    },
    {
      "cell_type": "code",
      "source": [
        "#--6.4--\n",
        "# Multiple inheritance\n",
        "\n",
        "class Family:\n",
        "\n",
        "  def __init__(self,address):\n",
        "    self.address = address\n",
        "\n",
        "  def __repr__(self) -> str:\n",
        "    print(f\"add. is {self.address}\")\n",
        "\n",
        "class School:\n",
        "\n",
        "  def __init__(self,id,level):\n",
        "    self.id = id\n",
        "    self.level = level\n",
        "\n",
        "  def __repr__(self) -> str:\n",
        "    print(f\"id is {self.id} and level is {self.level}\")\n",
        "\n",
        "class Sports:\n",
        "\n",
        "  def __init__(self,game):\n",
        "    self.game = game\n",
        "\n",
        "  def __repr__(self) -> str:\n",
        "    print(f\"and game is {self.game}\")\n",
        "\n",
        "class Student(Family,School,Sports):\n",
        "\n",
        "  def __init__(self, address, id, level, game):\n",
        "\n",
        "    Family.__init__(self, address)\n",
        "    School.__init__(self, id, level)\n",
        "    Sports.__init__(self, game)\n",
        "\n",
        "\n",
        "  def __repr__(self) -> str:\n",
        "\n",
        "    family_repr = Family.__repr__(self)\n",
        "    school_repr = School.__repr__(self)\n",
        "    sports_repr = Sports.__repr__(self)\n",
        "\n",
        "    print(f\"{family_repr}, {school_repr}, {sports_repr}\")\n",
        "\n",
        "\n",
        "sakku = Student(\"halishahar\", 44, 4, \"cricket\")\n",
        "print(sakku)"
      ],
      "metadata": {
        "colab": {
          "base_uri": "https://localhost:8080/",
          "height": 280
        },
        "id": "DhmNGCRquxpi",
        "outputId": "e9f824b0-77bd-44e8-f66e-579e9c3af7d6"
      },
      "execution_count": null,
      "outputs": [
        {
          "output_type": "stream",
          "name": "stdout",
          "text": [
            "add. is halishahar\n",
            "id is 44 and level is 4\n",
            "and game is cricket\n",
            "None, None, None\n"
          ]
        },
        {
          "output_type": "error",
          "ename": "TypeError",
          "evalue": "ignored",
          "traceback": [
            "\u001b[0;31m---------------------------------------------------------------------------\u001b[0m",
            "\u001b[0;31mTypeError\u001b[0m                                 Traceback (most recent call last)",
            "\u001b[0;32m<ipython-input-27-ef9441860dc9>\u001b[0m in \u001b[0;36m<cell line: 48>\u001b[0;34m()\u001b[0m\n\u001b[1;32m     46\u001b[0m \u001b[0;34m\u001b[0m\u001b[0m\n\u001b[1;32m     47\u001b[0m \u001b[0msakku\u001b[0m \u001b[0;34m=\u001b[0m \u001b[0mStudent\u001b[0m\u001b[0;34m(\u001b[0m\u001b[0;34m\"halishahar\"\u001b[0m\u001b[0;34m,\u001b[0m \u001b[0;36m44\u001b[0m\u001b[0;34m,\u001b[0m \u001b[0;36m4\u001b[0m\u001b[0;34m,\u001b[0m \u001b[0;34m\"cricket\"\u001b[0m\u001b[0;34m)\u001b[0m\u001b[0;34m\u001b[0m\u001b[0;34m\u001b[0m\u001b[0m\n\u001b[0;32m---> 48\u001b[0;31m \u001b[0mprint\u001b[0m\u001b[0;34m(\u001b[0m\u001b[0msakku\u001b[0m\u001b[0;34m)\u001b[0m\u001b[0;34m\u001b[0m\u001b[0;34m\u001b[0m\u001b[0m\n\u001b[0m",
            "\u001b[0;31mTypeError\u001b[0m: __str__ returned non-string (type NoneType)"
          ]
        }
      ]
    },
    {
      "cell_type": "code",
      "source": [
        "#--6.5\n",
        "# encapsulation and access modifier (private, public, protected)\n",
        "\n",
        "class Bank:\n",
        "\n",
        "  def __init__(self,holder_name,initial_deposit):\n",
        "    self.holder_name = holder_name # public\n",
        "    self.__balance = initial_deposit\n",
        "\n",
        "sakku = Bank(\"khan\", 500)\n",
        "print(sakku.holder_name)"
      ],
      "metadata": {
        "colab": {
          "base_uri": "https://localhost:8080/",
          "height": 211
        },
        "id": "vDjEL_opsF1Z",
        "outputId": "af85abd5-9e93-475d-8731-d6f62fbdfb35"
      },
      "execution_count": null,
      "outputs": [
        {
          "output_type": "error",
          "ename": "AttributeError",
          "evalue": "ignored",
          "traceback": [
            "\u001b[0;31m---------------------------------------------------------------------------\u001b[0m",
            "\u001b[0;31mAttributeError\u001b[0m                            Traceback (most recent call last)",
            "\u001b[0;32m<ipython-input-31-84f5055aed31>\u001b[0m in \u001b[0;36m<cell line: 11>\u001b[0;34m()\u001b[0m\n\u001b[1;32m      9\u001b[0m \u001b[0;34m\u001b[0m\u001b[0m\n\u001b[1;32m     10\u001b[0m \u001b[0msakku\u001b[0m \u001b[0;34m=\u001b[0m \u001b[0mBank\u001b[0m\u001b[0;34m(\u001b[0m\u001b[0;34m\"khan\"\u001b[0m\u001b[0;34m,\u001b[0m \u001b[0;36m500\u001b[0m\u001b[0;34m)\u001b[0m\u001b[0;34m\u001b[0m\u001b[0;34m\u001b[0m\u001b[0m\n\u001b[0;32m---> 11\u001b[0;31m \u001b[0mprint\u001b[0m\u001b[0;34m(\u001b[0m\u001b[0msakku\u001b[0m\u001b[0;34m.\u001b[0m\u001b[0mself\u001b[0m\u001b[0;34m.\u001b[0m\u001b[0mholder_name\u001b[0m\u001b[0;34m)\u001b[0m\u001b[0;34m\u001b[0m\u001b[0;34m\u001b[0m\u001b[0m\n\u001b[0m",
            "\u001b[0;31mAttributeError\u001b[0m: 'Bank' object has no attribute 'self'"
          ]
        }
      ]
    },
    {
      "cell_type": "code",
      "source": [
        "# ---6.6---\n",
        "#abstract class\n",
        "\n",
        "from abc import ABC, abstractmethod\n",
        "# abc = abstract base class\n",
        "\n",
        "class Animal(ABC):\n",
        "\n",
        "  @abstractmethod #enforce all derive class to use eat method\n",
        "  def eat(self):\n",
        "    print(\"i need food\")\n",
        "  @abstractmethod\n",
        "  def move(self):\n",
        "    pass\n",
        "\n",
        "class Monkey(Animal):\n",
        "\n",
        "  def __init__(self, name):\n",
        "    self.name = name\n",
        "    self.category = \"monkey\"\n",
        "\n",
        "  def eat(self):\n",
        "    print(\"hey i am eating\")\n",
        "\n",
        "  def move(self):\n",
        "    print(\"i am moving now\")\n",
        "\n",
        "sa = Monkey(\"look\")\n",
        "sa.eat()\n",
        "sa.move()\n"
      ],
      "metadata": {
        "colab": {
          "base_uri": "https://localhost:8080/"
        },
        "id": "PkgNg5prpNVl",
        "outputId": "cec4ecbf-6b0b-45c3-cfbe-9e281ba2deb2"
      },
      "execution_count": null,
      "outputs": [
        {
          "output_type": "stream",
          "name": "stdout",
          "text": [
            "hey i am eating\n",
            "i am moving now\n"
          ]
        }
      ]
    },
    {
      "cell_type": "code",
      "source": [
        "#-- 6.8---\n",
        "# polymorphism\n",
        "\n",
        "\n",
        "don =\n",
        "\n",
        "sheperd =\n",
        "\n",
        "mess =\n",
        "\n",
        "less =\n",
        "\n",
        "animals = [don,sheperd,mess,less]\n",
        "for animal in animals:\n",
        "  animal.make_sound()\n",
        "\n",
        "\n",
        "\n",
        "class Shape:\n",
        "\n",
        "  def __init__(self,name):\n",
        "    self.name = name\n"
      ],
      "metadata": {
        "id": "0pfbF9_x5dk3"
      },
      "execution_count": null,
      "outputs": []
    },
    {
      "cell_type": "code",
      "source": [
        "#--7.1--\n",
        "#opearator and method oberride\n",
        "\n",
        "def __add__(self,other):\n",
        "  return self.age + other.age\n",
        "\n",
        "\n",
        "# eivabe duita class er Object add korte parbo"
      ],
      "metadata": {
        "id": "qPmxCeJ0IWS0"
      },
      "execution_count": null,
      "outputs": []
    },
    {
      "cell_type": "code",
      "source": [
        "#--7.2---\n",
        "# static attribute and method and class method decorator\n",
        "\n",
        "class Shopping:\n",
        "  cart = [] #class attribute / static attribute\n",
        "\n",
        "  def __init__(self,name,location):\n",
        "    self.name = \"jabo na\" #instance attribute\n",
        "    self.location = \"dhaka\"\n",
        "\n",
        "\n",
        "  @classmethod # class method\n",
        "  def purchase(self, item, price, amount):\n",
        "    remain = amount - price\n",
        "    print(f\"buying {item} for price {price} and back amount {remain}\")\n",
        "\n",
        "\n",
        "  @staticmethod\n",
        "  def multiply(a,b):\n",
        "    return a*b      #self likha lagbe na\n",
        "\n",
        "\n",
        "Shopping.purchase(\"bus\",500,100)\n",
        "\n",
        "Shopping.multiply(5,6)\n",
        "\n"
      ],
      "metadata": {
        "colab": {
          "base_uri": "https://localhost:8080/"
        },
        "id": "gTxrSwN5M-pp",
        "outputId": "cfa41265-3d07-4e0f-dc48-02790cbe66d1"
      },
      "execution_count": null,
      "outputs": [
        {
          "output_type": "stream",
          "name": "stdout",
          "text": [
            "buying bus for price 500 and back amount -400\n"
          ]
        },
        {
          "output_type": "execute_result",
          "data": {
            "text/plain": [
              "30"
            ]
          },
          "metadata": {},
          "execution_count": 6
        }
      ]
    },
    {
      "cell_type": "code",
      "source": [
        "#---7.4---\n",
        "# inner and wrapper function\n",
        "\n",
        "def double_decker():\n",
        "  print(\"journey starting\")\n",
        "\n",
        "  def inner_func():\n",
        "    print(\"inner calling\")\n",
        "    return 500\n",
        "  return inner_func\n",
        "\n",
        "double_decker()()\n",
        "\n",
        "\n",
        "\n",
        "#wrapper\n",
        "\n",
        "def do_something(func):\n",
        "  print(\"work started\")\n",
        "  func()\n",
        "  print(\"work ended\")\n",
        "\n",
        "def coding():\n",
        "  print(\"coding in python\")\n",
        "\n",
        "\n",
        "do_something(coding)"
      ],
      "metadata": {
        "colab": {
          "base_uri": "https://localhost:8080/"
        },
        "id": "KFn8eq0wBKE6",
        "outputId": "7b1b0b60-fe80-40bd-ac68-8ed59e96580a"
      },
      "execution_count": null,
      "outputs": [
        {
          "output_type": "stream",
          "name": "stdout",
          "text": [
            "journey starting\n",
            "inner calling\n",
            "work started\n",
            "coding in python\n",
            "work ended\n"
          ]
        }
      ]
    },
    {
      "cell_type": "code",
      "source": [
        "#--7.5---\n",
        "# how does decorator work\n",
        "\n",
        "#1st way\n",
        "def timer(func):\n",
        "  def inner():\n",
        "    print(\"time startede\")\n",
        "    func()\n",
        "    print(\"print ended\")\n",
        "\n",
        "  return inner\n",
        "\n",
        "def get_factorial():\n",
        "  print(\"factorial starting\")\n",
        "\n",
        "timer(get_factorial)()\n",
        "\n",
        "#2nd way\n",
        "\n",
        "def timer(func):\n",
        "  def inner():\n",
        "    print(\"time startede_2\")\n",
        "    func()\n",
        "    print(\"print ended_2\")\n",
        "\n",
        "  return inner\n",
        "\n",
        "@timer\n",
        "def get_factorial():\n",
        "  print(\"factorial starting_2\")\n",
        "\n",
        "get_factorial()\n",
        "\n",
        "\n",
        "#3rd and decorated way\n",
        "\n",
        "import math\n",
        "\n",
        "def timer(func):\n",
        "  def inner(*args, **kwargs):\n",
        "    print(\"time started\")\n",
        "\n",
        "    func(*args, **kwargs)\n",
        "    print(\"time ended\")\n",
        "\n",
        "  return inner\n",
        "\n",
        "@timer\n",
        "def get_factorial(n):\n",
        "  print(\"factorial starting\")\n",
        "  result = math.factorial(n)\n",
        "  print(f\"fact result is {result}\")\n",
        "\n",
        "get_factorial(5)\n"
      ],
      "metadata": {
        "colab": {
          "base_uri": "https://localhost:8080/"
        },
        "id": "vI2JvHQbCdJ-",
        "outputId": "fc02da48-b4f6-41a3-8f3b-a85dfa0cc370"
      },
      "execution_count": null,
      "outputs": [
        {
          "output_type": "stream",
          "name": "stdout",
          "text": [
            "time startede\n",
            "factorial starting\n",
            "print ended\n",
            "time startede_2\n",
            "factorial starting_2\n",
            "print ended_2\n"
          ]
        }
      ]
    },
    {
      "cell_type": "code",
      "source": [
        "#---7.6---\n",
        "#class composition, inheritance Vs Composition\n",
        "\n",
        "#-----------\n"
      ],
      "metadata": {
        "id": "9d4Q5tmxKtkd"
      },
      "execution_count": null,
      "outputs": []
    },
    {
      "cell_type": "code",
      "source": [
        "class My_table:\n",
        "  variable = \"inside\"\n",
        "\n",
        "  def __init__(self, instance_variable):\n",
        "    self.instance_variable = instance_variable\n",
        "\n",
        "  @classmethod\n",
        "  def class_variable(self):\n",
        "    print(self.variable)\n",
        "\n",
        "My_table.class_variable()\n",
        "\n",
        "\n"
      ],
      "metadata": {
        "colab": {
          "base_uri": "https://localhost:8080/"
        },
        "id": "VLTAVhYITGPv",
        "outputId": "6f1bd685-5c1c-4283-d368-15c7bab8898e"
      },
      "execution_count": null,
      "outputs": [
        {
          "output_type": "stream",
          "name": "stdout",
          "text": [
            "inside\n"
          ]
        }
      ]
    },
    {
      "cell_type": "code",
      "source": [
        "import math\n",
        "\n",
        "class Operation:\n",
        "\n",
        "  def __init__(self,a,b,c):\n",
        "    self.a = a\n",
        "    self.b = b\n",
        "    self.c = c\n",
        "\n",
        "  def sum(self):\n",
        "    return self.a+self.b+self.c\n",
        "\n",
        "  def fact_calculation(self):\n",
        "    result = math.factorial(self.b)\n",
        "    return result\n",
        "\n",
        "\n",
        "ins = Operation(5,5,5)\n",
        "sum = ins.sum()\n",
        "print(f\"sum is {sum}\")\n",
        "\n",
        "ins_2= Operation(5,2,5)\n",
        "ins_2.fact_calculation()"
      ],
      "metadata": {
        "colab": {
          "base_uri": "https://localhost:8080/"
        },
        "id": "6AeXbGXFsCmr",
        "outputId": "c8fb1e69-1ebf-48c0-d431-852de88208bd"
      },
      "execution_count": null,
      "outputs": [
        {
          "output_type": "stream",
          "name": "stdout",
          "text": [
            "sum is 15\n"
          ]
        },
        {
          "output_type": "execute_result",
          "data": {
            "text/plain": [
              "2"
            ]
          },
          "metadata": {},
          "execution_count": 25
        }
      ]
    },
    {
      "cell_type": "code",
      "source": [
        "#----1st way-----\n",
        "\n",
        "class Person:\n",
        "    def __init__(self, name, age, height, weight) -> None:\n",
        "        self.name = name\n",
        "        self.age = age\n",
        "        self.height = height\n",
        "        self.weight = weight\n",
        "\n",
        "\n",
        "class Cricketer_1(Person):\n",
        "    def __init__(self, name, age, height, weight) -> None:\n",
        "        super().__init__(name, age, height, weight)\n",
        "class Cricketer_2(Person):\n",
        "    def __init__(self, name, age, height, weight) -> None:\n",
        "        super().__init__(name, age, height, weight)\n",
        "class Cricketer_3(Person):\n",
        "    def __init__(self, name, age, height, weight) -> None:\n",
        "        super().__init__(name, age, height, weight)\n",
        "class Cricketer_4(Person):\n",
        "    def __init__(self, name, age, height, weight) -> None:\n",
        "        super().__init__(name, age, height, weight)\n",
        "\n",
        "\n",
        "\n",
        "\n",
        "Sakib = Cricketer_1('Sakib', 38, 68, 91)\n",
        "Mushfiq = Cricketer_2('Mushfiq', 36, 55, 82)\n",
        "Mustafiz = Cricketer_3('Mustafiz', 27, 69, 86)\n",
        "Riyad = Cricketer_4('Riyad', 39, 72, 92)\n",
        "\n",
        "\n",
        "if Sakib.age < Mushfiq.age and Sakib.age < Mustafiz.age and Sakib.age < Riyad.age:\n",
        "    print(\"Sakib is the youngest among them\")\n",
        "\n",
        "elif Mushfiq.age < Sakib.age and Mushfiq.age < Mustafiz.age and Mushfiq.age < Riyad.age:\n",
        "    print(\"Mushfiq is the youngest among them\")\n",
        "\n",
        "\n",
        "elif Mustafiz.age < Sakib.age and Mustafiz.age < Mushfiq.age and Mustafiz.age < Riyad.age:\n",
        "  print(\"Mustafiz is the youngest among them\")\n",
        "\n",
        "else:\n",
        "  print(\"Riyad is the youngest among them\")\n",
        "\n",
        "\n",
        "\n",
        "#----2nd way-------\n",
        "\n",
        "class Person:\n",
        "    def __init__(self, name, age, height, weight) -> None:\n",
        "        self.name = name\n",
        "        self.age = age\n",
        "        self.height = height\n",
        "        self.weight = weight\n",
        "\n",
        "class Cricketer(Person):\n",
        "    def __init__(self, name, age, height, weight) -> None:\n",
        "        super().__init__(name, age, height, weight)\n",
        "\n",
        "    def __lt__(self, other):\n",
        "        return self.age < other.age\n",
        "\n",
        "# Creating instances of Cricketer\n",
        "Sakib = Cricketer('Sakib', 38, 68, 91)\n",
        "Mushfiq = Cricketer('Mushfiq', 36, 55, 82)\n",
        "Mustafiz = Cricketer('Mustafiz', 27, 69, 86)\n",
        "Riyad = Cricketer('Riyad', 39, 72, 92)\n",
        "\n",
        "# Finding the youngest player\n",
        "youngest = min([Sakib, Mushfiq, Mustafiz, Riyad])\n",
        "\n",
        "# Printing the name of the youngest player\n",
        "print(f\"The youngest cricketer name is : {youngest.name}\")\n"
      ],
      "metadata": {
        "colab": {
          "base_uri": "https://localhost:8080/"
        },
        "id": "DNE8Q8L045RC",
        "outputId": "254d0f21-0351-46b9-b940-d61844b08d88"
      },
      "execution_count": null,
      "outputs": [
        {
          "output_type": "stream",
          "name": "stdout",
          "text": [
            "Mustafiz is the youngest among them\n"
          ]
        }
      ]
    },
    {
      "cell_type": "code",
      "source": [
        "#OOP simple project\n",
        "\n",
        "from abc import ABC, abstractmethod\n",
        "from datetime import datetime\n",
        "\n",
        "\n",
        "class Ride_Sharing:\n",
        "\n",
        "  def __init__(self, comapany_name):\n",
        "    self.comapany_name = comapany_name\n",
        "    self.riders = []\n",
        "    self.rides = []\n",
        "    self.drivers = []\n",
        "\n",
        "  def add_rider(self, rider):\n",
        "    self.riders.append(rider)\n",
        "\n",
        "  def add_driver(self, driver):\n",
        "    self.drivers.append(driver)\n",
        "\n",
        "\n",
        "  def __repr__(self) -> str:\n",
        "    return f'{self.comapany_name} with riders{len(self.riders)} and drivers {len(self.drivers)}'\n",
        "\n",
        "\n",
        "\n",
        "class User(ABC):\n",
        "\n",
        "  def __init__(self,email,name,nid):\n",
        "    self.name = name\n",
        "    self.email = email\n",
        "    #TODO: set dynamically\n",
        "    self.__id = 0\n",
        "    self.__nid = nid\n",
        "    self.wallet = 0\n",
        "\n",
        "  @abstractmethod\n",
        "  def display_profile(self):\n",
        "    raise NotImplementedError\n",
        "\n",
        "class Rider(User):\n",
        "\n",
        "  def __init__(self, name, email, nid, current_location, initial_amount):\n",
        "    self.current_ride = None\n",
        "    self.wallet = initial_amount\n",
        "    self.current_location = current_location\n",
        "    super().__init__(email, name, nid)\n",
        "\n",
        "  def display_profile(self):\n",
        "    return f\"Rider name is {self.name} and email id {self.email}\"\n",
        "\n",
        "\n",
        "  def load_cash(self, amount):\n",
        "    if amount > 0:\n",
        "       self.wallet -= amount\n",
        "\n",
        "  def update_location(self, current_location):\n",
        "    self.current_location = current_location\n",
        "\n",
        "  def request_ride(self, ride_sharing, destination):\n",
        "    if not self.current_ride:   # jodi current_ride na thake\n",
        "          ride_request =Ride_Request(self, destination)\n",
        "          ride_matcher = Ride_Matching(ride_sharing.drivers)\n",
        "          ride = ride_matcher.find_driver(ride_request)\n",
        "          print(\"got the ride\")\n",
        "          self.current_ride = ride\n",
        "\n",
        "  def show_current_ride(self):\n",
        "    print(self.current_ride)\n",
        "\n",
        "class Driver(User):\n",
        "\n",
        "  def __init__(self, name, email, nid, current_location):\n",
        "    self.current_location = current_location\n",
        "    super().__init__(email, name, nid)\n",
        "\n",
        "  def display_profile(self):\n",
        "    return f\"this driver name is {self.name}\"\n",
        "\n",
        "  def accept_ride(self, ride):\n",
        "    ride.set_driver(self)\n",
        "\n",
        "class Ride:\n",
        "\n",
        "  def __init__(self, start_location, end_location):\n",
        "    self.start_location = start_location\n",
        "    self.end_location = end_location\n",
        "    self.driver = None\n",
        "    self.rider = None\n",
        "    self.start_time = None\n",
        "    self.end_time = None\n",
        "    self.estimated_fare = None\n",
        "\n",
        "  def set_driver(self, driver):\n",
        "    self.driver = driver\n",
        "\n",
        "  def start_ride(self):\n",
        "    self.start_time = datetime.now()\n",
        "\n",
        "  def end_ride(self):\n",
        "    self.end_time = datetime.now()\n",
        "    self.rider.wallet -= self.estimated_fare\n",
        "    self.driver.wallet += self.estimated_fare\n",
        "\n",
        "  def __repr__(self):\n",
        "    return f\"About Ride details. Started: {self.start_location} to {self.end_location}\"\n",
        "\n",
        "class Ride_Request:\n",
        "\n",
        "  def __init__(self, rider, end_location):\n",
        "    self.rider = rider\n",
        "    self.end_location = end_location\n",
        "\n",
        "\n",
        "class Ride_Matching:\n",
        "\n",
        "  def __init__(self, drivers):\n",
        "    self.available_drivers = drivers\n",
        "\n",
        "  def find_driver(self, ride_request):\n",
        "    if len(self.available_drivers) > 0:\n",
        "      driver = self.available_drivers[0]\n",
        "      ride = Ride(ride_request.rider.current_location, ride_request.end_location)\n",
        "      driver.accept_ride(ride)\n",
        "\n",
        "      return ride\n",
        "\n",
        "class Vehicle(ABC):\n",
        "\n",
        "  speed = {'car':50, 'bike':60, 'cng':15}\n",
        "\n",
        "  def __init__(self, vehicle_type, license_plate, rate):\n",
        "    self.vehicle_type = vehicle_type\n",
        "    self.license_plate = license_plate\n",
        "    self.rate = rate\n",
        "    self.status = \"available\"\n",
        "\n",
        "  @abstractmethod\n",
        "  def start_drive(self):\n",
        "    pass\n",
        "\n",
        "class Car(Vehicle):\n",
        "\n",
        "  def __init__(self, vehicle_type, license_plate, rate):\n",
        "    super().__init__(vehicle_type, license_plate, rate)\n",
        "\n",
        "  def start_drive(self):\n",
        "    self.status = \"unavailable\"\n",
        "\n",
        "\n",
        "class Bike(Vehicle):\n",
        "\n",
        "  def __init__(self, vehicle_type, license_plate, rate):\n",
        "    super().__init__(vehicle_type, license_plate, rate)\n",
        "\n",
        "  def start_drive(self):\n",
        "    self.status = \"unavailable\"\n",
        "\n",
        "\n",
        "#check the class integratioin\n",
        "\n",
        "niye_jao = Ride_Sharing(\"Niye Jao\")\n",
        "sakib = Rider(\"sakib khan\", \"sakibkhan@gmail.com\", 1254, \"mohakhali\", 1200)\n",
        "\n",
        "niye_jao.add_rider(sakib)\n",
        "\n",
        "kala_pakhi = Driver(\"kala pakhi\", \"ka@gmail.com\", 5855, \"gulshan 1\")\n",
        "\n",
        "niye_jao.add_driver(kala_pakhi)\n",
        "\n",
        "print(niye_jao)\n",
        "\n",
        "sakib.request_ride(niye_jao, \"uttara\")\n",
        "sakib.show_current_ride()\n",
        "\n",
        "\n",
        "\n",
        "\n",
        "\n",
        "\n",
        "\n",
        "\n",
        "\n",
        "\n",
        "\n"
      ],
      "metadata": {
        "colab": {
          "base_uri": "https://localhost:8080/"
        },
        "id": "FXwUwaEnI65q",
        "outputId": "aca6177a-9ebd-4411-9085-7c1d99eabbbe"
      },
      "execution_count": null,
      "outputs": [
        {
          "output_type": "stream",
          "name": "stdout",
          "text": [
            "Niye Jao with riders1 and drivers 1\n",
            "got the ride\n",
            "About Ride details. Started: mohakhali to uttara\n"
          ]
        }
      ]
    }
  ]
}